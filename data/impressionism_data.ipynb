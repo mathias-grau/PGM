{
 "cells": [
  {
   "cell_type": "code",
   "execution_count": null,
   "metadata": {},
   "outputs": [],
   "source": [
    "# Libraries\n",
    "import numpy as np\n",
    "import pandas as pd\n",
    "import matplotlib.pyplot as plt\n",
    "import cv2\n",
    "import urllib.request\n",
    "\n",
    "# DataFrame\n",
    "wikiart = pd.read_csv('wikiart_scraped.csv')\n",
    "plt.figure(figsize=(10, 5))\n",
    "wikiart.Style.value_counts()[:30].plot(kind='bar')"
   ]
  },
  {
   "cell_type": "code",
   "execution_count": null,
   "metadata": {},
   "outputs": [],
   "source": [
    "imp_df = wikiart[wikiart['Style'] == 'Impressionism']\n",
    "imp_df.head()"
   ]
  },
  {
   "cell_type": "code",
   "execution_count": null,
   "metadata": {},
   "outputs": [],
   "source": [
    "imp_df.Artist.value_counts()[:30].plot(kind='bar')"
   ]
  },
  {
   "cell_type": "code",
   "execution_count": null,
   "metadata": {},
   "outputs": [],
   "source": [
    "lst_artists = ['Claude Monet', 'Pierre-Auguste Renoir', 'Edgar Degas', 'Camille Pissarro', 'Alfred Sisley', 'Paul Cezanne', 'Berthe Morisot', 'Mary Cassatt', 'Gustave Caillebot']\n",
    "imp_df = imp_df[imp_df['Artist'].isin(lst_artists)]\n",
    "imp_df"
   ]
  },
  {
   "cell_type": "code",
   "execution_count": null,
   "metadata": {},
   "outputs": [],
   "source": [
    "# write in a txt file imp_df.Artwork.unique()\n",
    "with open(\"impressionism_artworks.txt\", \"w\") as file:\n",
    "    file.write(\"\\n\".join(imp_df.Artwork.unique()))"
   ]
  },
  {
   "cell_type": "code",
   "execution_count": null,
   "metadata": {},
   "outputs": [],
   "source": [
    "import os\n",
    "import requests\n",
    "\n",
    "# Create the directory if it doesn't exist\n",
    "os.makedirs('impressionism', exist_ok=True)\n",
    "\n",
    "# User-Agent to mimic a web browser\n",
    "headers = {\n",
    "    'User-Agent': 'Mozilla/5.0 (Windows NT 10.0; Win64; x64) AppleWebKit/537.36 (KHTML, like Gecko) Chrome/91.0.4472.124 Safari/537.36'\n",
    "}\n",
    "\n",
    "# Loop over each image URL in the DataFrame\n",
    "for i, url in enumerate(imp_df['Link']):\n",
    "    print(f\"Attempting to download image from {url}...\")\n",
    "    try:\n",
    "        # Send a GET request to the URL with the custom headers\n",
    "        response = requests.get(url, headers=headers)\n",
    "        \n",
    "        # Check if the response is valid (status code 200) and contains an image\n",
    "        if response.status_code == 200 and 'image' in response.headers['Content-Type']:\n",
    "            with open(f'impressionism/{i}.jpg', 'wb') as f:\n",
    "                f.write(response.content)\n",
    "            print(f\"Successfully downloaded image {i}\")\n",
    "        else:\n",
    "            print(f\"Failed to retrieve {url} with status code {response.status_code}\")\n",
    "    except Exception as e:\n",
    "        print(f\"Error with {url}: {e}\")\n",
    "        continue\n"
   ]
  }
 ],
 "metadata": {
  "kernelspec": {
   "display_name": "Python 3",
   "language": "python",
   "name": "python3"
  },
  "language_info": {
   "codemirror_mode": {
    "name": "ipython",
    "version": 3
   },
   "file_extension": ".py",
   "mimetype": "text/x-python",
   "name": "python",
   "nbconvert_exporter": "python",
   "pygments_lexer": "ipython3",
   "version": "3.9.19"
  }
 },
 "nbformat": 4,
 "nbformat_minor": 2
}
